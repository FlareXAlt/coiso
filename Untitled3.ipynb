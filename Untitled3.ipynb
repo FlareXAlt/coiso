{
  "cells": [
    {
      "cell_type": "code",
      "execution_count": null,
      "metadata": {
        "colab": {
          "base_uri": "https://localhost:8080/"
        },
        "id": "u516UP_1M6Wy",
        "outputId": "23cb0ccc-8e95-43b4-8c1f-5841bbd636e5"
      },
      "outputs": [
        {
          "output_type": "stream",
          "name": "stdout",
          "text": [
            "\u001b[33mhint: Using 'master' as the name for the initial branch. This default branch name\u001b[m\n",
            "\u001b[33mhint: is subject to change. To configure the initial branch name to use in all\u001b[m\n",
            "\u001b[33mhint: of your new repositories, which will suppress this warning, call:\u001b[m\n",
            "\u001b[33mhint: \u001b[m\n",
            "\u001b[33mhint: \tgit config --global init.defaultBranch <name>\u001b[m\n",
            "\u001b[33mhint: \u001b[m\n",
            "\u001b[33mhint: Names commonly chosen instead of 'master' are 'main', 'trunk' and\u001b[m\n",
            "\u001b[33mhint: 'development'. The just-created branch can be renamed via this command:\u001b[m\n",
            "\u001b[33mhint: \u001b[m\n",
            "\u001b[33mhint: \tgit branch -m <name>\u001b[m\n",
            "Initialized empty Git repository in /content/.git/\n",
            "remote: Enumerating objects: 282, done.\u001b[K\n",
            "remote: Counting objects: 100% (51/51), done.\u001b[K\n",
            "remote: Compressing objects: 100% (24/24), done.\u001b[K\n",
            "remote: Total 282 (delta 48), reused 27 (delta 27), pack-reused 231\u001b[K\n",
            "Receiving objects: 100% (282/282), 208.69 KiB | 1.45 MiB/s, done.\n",
            "Resolving deltas: 100% (79/79), done.\n",
            "From https://github.com/AsumaPT/draconBot\n",
            " * [new branch]      main       -> origin/main\n",
            " * [new tag]         v1.1       -> v1.1\n",
            " * [new tag]         v1.2       -> v1.2\n",
            "There is no tracking information for the current branch.\n",
            "Please specify which branch you want to merge with.\n",
            "See git-pull(1) for details.\n",
            "\n",
            "    git pull <remote> <branch>\n",
            "\n",
            "If you wish to set tracking information for this branch you can do so with:\n",
            "\n",
            "    git branch --set-upstream-to=origin/<branch> master\n",
            "\n",
            "Branch 'main' set up to track remote branch 'main' from 'origin'.\n",
            "Switched to a new branch 'main'\n",
            "Branch 'main' set up to track remote branch 'main' from 'origin'.\n",
            "Checking required packages\n",
            "WARNING: pip is being invoked by an old script wrapper. This will fail in a future version of pip.\n",
            "Please see https://github.com/pypa/pip/issues/5599 for advice on fixing the underlying issue.\n",
            "To avoid this problem you can invoke Python with '-m pip' instead of running pip directly.\n",
            "Requirement already satisfied: websocket-client in /usr/local/lib/python3.10/dist-packages (1.8.0)\n",
            "WARNING: pip is being invoked by an old script wrapper. This will fail in a future version of pip.\n",
            "Please see https://github.com/pypa/pip/issues/5599 for advice on fixing the underlying issue.\n",
            "To avoid this problem you can invoke Python with '-m pip' instead of running pip directly.\n",
            "Requirement already satisfied: Pillow in /usr/local/lib/python3.10/dist-packages (9.4.0)\n",
            "WARNING: pip is being invoked by an old script wrapper. This will fail in a future version of pip.\n",
            "Please see https://github.com/pypa/pip/issues/5599 for advice on fixing the underlying issue.\n",
            "To avoid this problem you can invoke Python with '-m pip' instead of running pip directly.\n",
            "Requirement already satisfied: requests in /usr/local/lib/python3.10/dist-packages (2.31.0)\n",
            "Requirement already satisfied: charset-normalizer<4,>=2 in /usr/local/lib/python3.10/dist-packages (from requests) (3.3.2)\n",
            "Requirement already satisfied: idna<4,>=2.5 in /usr/local/lib/python3.10/dist-packages (from requests) (3.7)\n",
            "Requirement already satisfied: urllib3<3,>=1.21.1 in /usr/local/lib/python3.10/dist-packages (from requests) (2.0.7)\n",
            "Requirement already satisfied: certifi>=2017.4.17 in /usr/local/lib/python3.10/dist-packages (from requests) (2024.7.4)\n",
            "WARNING: pip is being invoked by an old script wrapper. This will fail in a future version of pip.\n",
            "Please see https://github.com/pypa/pip/issues/5599 for advice on fixing the underlying issue.\n",
            "To avoid this problem you can invoke Python with '-m pip' instead of running pip directly.\n",
            "Collecting colorama\n",
            "  Downloading colorama-0.4.6-py2.py3-none-any.whl (25 kB)\n",
            "Installing collected packages: colorama\n",
            "Successfully installed colorama-0.4.6\n",
            "WARNING: pip is being invoked by an old script wrapper. This will fail in a future version of pip.\n",
            "Please see https://github.com/pypa/pip/issues/5599 for advice on fixing the underlying issue.\n",
            "To avoid this problem you can invoke Python with '-m pip' instead of running pip directly.\n",
            "Collecting pypresence\n",
            "  Downloading pypresence-4.3.0-py2.py3-none-any.whl (11 kB)\n",
            "Installing collected packages: pypresence\n",
            "Successfully installed pypresence-4.3.0\n",
            "OK\n",
            "Requirement already satisfied: matplotlib in /usr/local/lib/python3.10/dist-packages (3.7.1)\n",
            "Requirement already satisfied: contourpy>=1.0.1 in /usr/local/lib/python3.10/dist-packages (from matplotlib) (1.2.1)\n",
            "Requirement already satisfied: cycler>=0.10 in /usr/local/lib/python3.10/dist-packages (from matplotlib) (0.12.1)\n",
            "Requirement already satisfied: fonttools>=4.22.0 in /usr/local/lib/python3.10/dist-packages (from matplotlib) (4.53.1)\n",
            "Requirement already satisfied: kiwisolver>=1.0.1 in /usr/local/lib/python3.10/dist-packages (from matplotlib) (1.4.5)\n",
            "Requirement already satisfied: numpy>=1.20 in /usr/local/lib/python3.10/dist-packages (from matplotlib) (1.25.2)\n",
            "Requirement already satisfied: packaging>=20.0 in /usr/local/lib/python3.10/dist-packages (from matplotlib) (24.1)\n",
            "Requirement already satisfied: pillow>=6.2.0 in /usr/local/lib/python3.10/dist-packages (from matplotlib) (9.4.0)\n",
            "Requirement already satisfied: pyparsing>=2.3.1 in /usr/local/lib/python3.10/dist-packages (from matplotlib) (3.1.2)\n",
            "Requirement already satisfied: python-dateutil>=2.7 in /usr/local/lib/python3.10/dist-packages (from matplotlib) (2.8.2)\n",
            "Requirement already satisfied: six>=1.5 in /usr/local/lib/python3.10/dist-packages (from python-dateutil>=2.7->matplotlib) (1.16.0)\n"
          ]
        }
      ],
      "source": [
        "!cd /\n",
        "!git init\n",
        "!git remote add origin https://github.com/FlareXAlt/coiso.git\n",
        "!git pull\n",
        "!git checkout main -f\n",
        "!git branch --set-upstream-to origin/main\n",
        "!python setup.py\n",
        "!pip install matplotlib"
      ]
    },
    {
      "cell_type": "code",
      "execution_count": null,
      "metadata": {
        "id": "4zJMS5hpz4kU"
      },
      "outputs": [],
      "source": []
    },
    {
      "cell_type": "code",
      "execution_count": null,
      "metadata": {
        "colab": {
          "base_uri": "https://localhost:8080/"
        },
        "id": "P5zq8ZxVPL8S",
        "outputId": "7e4eb9ad-6d66-4602-d070-4fd0b12d4c7a"
      },
      "outputs": [
        {
          "output_type": "stream",
          "name": "stdout",
          "text": [
            "oi\n",
            "sh: 1: cls: not found\n",
            "\u001b[31m$$$$$$$$$$$$$$$$$$$$$$$$$$$$$$$$$$$$$$$$$$\n",
            "$$$$$$$$$$$$$$$$Y/'$$$$P'a$$$$$$$$$$$$$$$$\n",
            "$$$$$$$$$\",` /,/,mT$$$$ d$$$$$$$$$$$$$$$$$\n",
            "$$$$$l',` , '/d$$$$P^$a `^a`W$$$$$$$$$$$$$\n",
            "$$l', ` ,   |d$$$P^$'   _  _ ==~a$$$$$$$$$\n",
            "$l.`  .     \\'i$^4'   _eP$$$$$$$$$$$$$$$$$ \n",
            "l '  .         /   ,  $$$$' `$~$$$$$$$$$$$   ___  ___    _   ___ ___  _  _   _____   __\n",
            "; ' ,              l /^' .,$oa$$$$$$$$$$$$  |   \\| _ \\  /_\\ / __/ _ \\| \\| | | _ \\ \\ / /\n",
            "b ' ,        .     (_ ,1$$$$$$'$$$$$$$$$$$  | |) |   / / _ \\ (_| (_) | .` |_|  _/\\ V / \n",
            "$ , ,      .;       _$$$$$$$P $a$$$$$$$$$$  |___/|_|_\\/_/ \\_\\___\\___/|_|\\_(_)_|   |_|  \n",
            "$, ,`    .$Ly        lM\"^ ,  ,$$$$$$$'$$$$\n",
            "$$, ,`   d$Liy      /'   edb $$$$$$$'$$$$$\n",
            "$$$$,,'. $$$Li     (    d$$$$$$$$$$'$$$$$$\n",
            "$$$$$$,' v$$$Li4.   `  `Q$$$$$$$P',$$$$$$$\n",
            "$$$$$$$$,$$$$$$$L44., . .     ,,;d$$$$$$$$\n",
            "$$$$$$$$$$$$$$$$$$$$$$$$$$$$$$$$$$$$$$$$$$\n",
            "$$$$$$$$$$$$$$$$$$$$$$$$$$$$$$$$$$$$$$$$$$\n",
            "\u001b[0m\n",
            "\u001b[31m[DRACON] Version: 1.2\u001b[0m\n",
            "\u001b[31m[DRACON] Author: Asuma\u001b[0m\n",
            "sh: 1: cls: not found\n",
            "Traceback (most recent call last):\n",
            "  File \"/content/bot/draconBot.py\", line 44, in <module>\n",
            "    startTemplate(canvas, x, y, template, strategy, option)\n",
            "  File \"/content/bot/src/template.py\", line 66, in startTemplate\n",
            "    template = Image.open(templat)\n",
            "  File \"/usr/local/lib/python3.10/dist-packages/PIL/Image.py\", line 3283, in open\n",
            "    raise UnidentifiedImageError(msg)\n",
            "PIL.UnidentifiedImageError: cannot identify image file 'piroca.png'\n",
            "\u001b[0m"
          ]
        }
      ],
      "source": [
        "import time\n",
        "import requests\n",
        "import os\n",
        "time.sleep(0.1)\n",
        "!python draconBot.py \"world\" \"3973\" \"-624\" \"piroca.png\" \"lines\"\n",
        "#python draconBot.py \"world\" \"3973\" \"-624\" \"piroca.png\" \"columns\""
      ]
    },
    {
      "cell_type": "code",
      "execution_count": null,
      "metadata": {
        "colab": {
          "base_uri": "https://localhost:8080/",
          "height": 370
        },
        "id": "hlIF5byUUf8Z",
        "outputId": "c0319ebc-c3d3-4fb0-d1d8-c77f92ecca6a"
      },
      "outputs": [
        {
          "name": "stdout",
          "output_type": "stream",
          "text": [
            "oi\n"
          ]
        },
        {
          "data": {
            "image/png": "[encoded data removed]",
            "text/plain": [
              "<PIL.PngImagePlugin.PngImageFile image mode=RGBA size=500x300>"
            ]
          },
          "metadata": {},
          "output_type": "display_data"
        },
        {
          "name": "stdout",
          "output_type": "stream",
          "text": [
            "oia\n"
          ]
        },
        {
          "data": {
            "application/vnd.google.colaboratory.intrinsic+json": {
              "type": "string"
            },
            "text/plain": [
              "'a'"
            ]
          },
          "execution_count": 26,
          "metadata": {},
          "output_type": "execute_result"
        }
      ],
      "source": [
        "print('oi')\n",
        "from PIL import Image\n",
        "from IPython.display import display\n",
        "im = Image.open(\"captcha.png\")\n",
        "display(im)\n",
        "input('oi')"
      ]
    }
  ],
  "metadata": {
    "colab": {
      "provenance": []
    },
    "kernelspec": {
      "display_name": "Python 3",
      "name": "python3"
    },
    "language_info": {
      "name": "python"
    }
  },
  "nbformat": 4,
  "nbformat_minor": 0
}
